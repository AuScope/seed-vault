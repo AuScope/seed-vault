{
 "cells": [
  {
   "cell_type": "code",
   "execution_count": null,
   "id": "7847ddf2-baea-4e79-9d63-9fec2280dc17",
   "metadata": {},
   "outputs": [],
   "source": [
    "import os\n",
    "import obspy\n",
    "from obspy import read\n",
    "import numpy as np\n",
    "import matplotlib.pyplot as plt\n",
    "from obspy.imaging.spectrogram import spectrogram\n",
    "from obspy.signal.trigger import classic_sta_lta\n",
    "DATA_DIR = '/app/data'\n"
   ]
  },
  {
   "cell_type": "code",
   "execution_count": null,
   "id": "21326a64-545a-449e-bb31-23eb9f1c2d6a",
   "metadata": {},
   "outputs": [],
   "source": [
    "def read_seismic_files(directory):\n",
    "    st = obspy.Stream()\n",
    "    for root, dirs, files in os.walk(directory):\n",
    "        for file in files:\n",
    "            # Check if the file matches the expected naming pattern\n",
    "            # At least 5 parts in the filename\n",
    "            if len(file.split('.')) >= 5:  \n",
    "                file_path = os.path.join(root, file)\n",
    "                try:\n",
    "                    st += read(file_path)\n",
    "                except Exception as e:\n",
    "                    print(f\"Error reading file {file}: {str(e)}\")\n",
    "    return st"
   ]
  },
  {
   "cell_type": "code",
   "execution_count": null,
   "id": "85da41af-fa75-4242-a8d0-76e9a88e25e4",
   "metadata": {},
   "outputs": [],
   "source": [
    "def display_information(stream):\n",
    "    stream = read_seismic_files(DATA_DIR)\n",
    "    \n",
    "    print(f\"Number of traces: {len(stream)}\")\n",
    "    station_ids = set(tr.stats.station for tr in stream)\n",
    "    print(\"Unique station IDs in the dataset:\")\n",
    "    for station_id in sorted(station_ids):\n",
    "        print(station_id)\n",
    "    \n",
    "    for i, tr in enumerate(stream):\n",
    "        print(f\"\\nTrace {i + 1}:\")\n",
    "        print(f\"Station: {tr.stats.station}\")\n",
    "        print(f\"Channel: {tr.stats.channel}\")\n",
    "        print(f\"Start time: {tr.stats.starttime}\")\n",
    "        print(f\"End time: {tr.stats.endtime}\")\n",
    "        print(f\"Number of samples: {tr.stats.npts}\")\n",
    "        print(f\"Sampling rate: {tr.stats.sampling_rate} Hz\")\n",
    "display_information(stream)\n"
   ]
  },
  {
   "cell_type": "code",
   "execution_count": null,
   "id": "7b29b820-9d53-425b-b5de-5418698f6f38",
   "metadata": {},
   "outputs": [],
   "source": [
    "def plat_single_trace(stream):\n",
    "    stream[0].plot(type='relative', outfile=None, fig=plt.figure(figsize=(12, 6)))\n",
    "\n",
    "    # Adjust the title and grid after ObsPy has created the plot\n",
    "    plt.title(f\"Seismic Data: {stream[0].stats.station} - {stream[0].stats.channel}\")\n",
    "    plt.grid(True, which='both', linestyle='--', linewidth=0.5)\n",
    "\n",
    "    plt.show()\n",
    "plat_single_trace(stream)"
   ]
  },
  {
   "cell_type": "code",
   "execution_count": null,
   "id": "3ed25d67-3f04-473b-b758-18ab05c1cff9",
   "metadata": {},
   "outputs": [],
   "source": [
    "def plot_multiple_traces(stream):\n",
    "    fig, axes = plt.subplots(5, 1, figsize=(12, 15), sharex=True)\n",
    "    fig.suptitle(\"Seismic Data: Multiple Traces\", fontsize=16)\n",
    "     # Plot first 5 traces\n",
    "    for i, tr in enumerate(stream[:5]): \n",
    "        ax = axes[i]\n",
    "        times = tr.times()\n",
    "        ax.plot(times, tr.data, 'k')\n",
    "        ax.set_title(f\"{tr.id}\", fontsize=10)\n",
    "        ax.set_ylabel(\"Amplitude (counts)\")\n",
    "        ax.grid(True, which='both', linestyle='--', linewidth=0.5)\n",
    "        \n",
    "        # Set y-axis limits symmetrically\n",
    "        max_amp = max(abs(tr.data.max()), abs(tr.data.min()))\n",
    "        ax.set_ylim(-max_amp, max_amp)\n",
    "        \n",
    "        # Only show x-axis label for the bottom subplot\n",
    "        if i == 4:\n",
    "            ax.set_xlabel(\"Time (seconds)\")\n",
    "        \n",
    "        # Adjust y-axis tick label font size\n",
    "        ax.tick_params(axis='y', labelsize=8)\n",
    "    \n",
    "    plt.tight_layout()\n",
    "    plt.subplots_adjust(top=0.95)  \n",
    "    plt.show()\n",
    "plot_multiple_traces(stream)"
   ]
  },
  {
   "cell_type": "code",
   "execution_count": null,
   "id": "83883ca7-ab9f-4e44-93c1-a8d64d7d8d6c",
   "metadata": {},
   "outputs": [],
   "source": [
    "def plot_timeseries(stream, station=None, channel=None):\n",
    "    if station and channel:\n",
    "        st_filtered = stream.select(station=station, channel=channel)\n",
    "    else:\n",
    "        st_filtered = stream\n",
    "\n",
    "    fig, ax = plt.subplots(figsize=(12, 6))\n",
    "    # For each trace in the filtered stream, it plots the data against time.\n",
    "    for tr in st_filtered:\n",
    "        times = tr.times()\n",
    "        ax.plot(times, tr.data, label=f'{tr.stats.station}.{tr.stats.channel}')\n",
    "    \n",
    "    ax.set_xlabel('Time (seconds)')\n",
    "    ax.set_ylabel('Amplitude')\n",
    "    ax.set_title('Seismic Timeseries')\n",
    "    ax.legend()\n",
    "    ax.grid(True)\n",
    "    plt.show()\n",
    "\n",
    "plot_timeseries(stream)"
   ]
  },
  {
   "cell_type": "code",
   "execution_count": null,
   "id": "81b5cdfb-1be8-441c-a381-09cd246963a0",
   "metadata": {},
   "outputs": [],
   "source": []
  }
 ],
 "metadata": {
  "kernelspec": {
   "display_name": "Python 3 (ipykernel)",
   "language": "python",
   "name": "python3"
  },
  "language_info": {
   "codemirror_mode": {
    "name": "ipython",
    "version": 3
   },
   "file_extension": ".py",
   "mimetype": "text/x-python",
   "name": "python",
   "nbconvert_exporter": "python",
   "pygments_lexer": "ipython3",
   "version": "3.10.15"
  }
 },
 "nbformat": 4,
 "nbformat_minor": 5
}
